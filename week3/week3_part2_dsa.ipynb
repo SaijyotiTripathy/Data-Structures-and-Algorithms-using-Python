{
  "nbformat": 4,
  "nbformat_minor": 0,
  "metadata": {
    "colab": {
      "name": "week3 part2 dsa.ipynb",
      "provenance": [],
      "collapsed_sections": []
    },
    "kernelspec": {
      "name": "python3",
      "display_name": "Python 3"
    },
    "language_info": {
      "name": "python"
    }
  },
  "cells": [
    {
      "cell_type": "markdown",
      "metadata": {
        "id": "i4ITRbFFgP18"
      },
      "source": [
        "# **Difference between list and array Implementation**"
      ]
    },
    {
      "cell_type": "code",
      "metadata": {
        "id": "TA3LBktrgKHp"
      },
      "source": [
        "import time\n",
        "\n",
        "class TimerError(Exception):\n",
        "  \"\"\"A custom exception used to report errors in use of Timer class\"\"\"\n",
        "\n",
        "class Timer:\n",
        "  def __init__(self):\n",
        "    self._start_time= None\n",
        "    self._elapsed_time= None\n",
        "  \n",
        "  def start(self):\n",
        "    \"\"\"Start a new timer\"\"\"\n",
        "    if self._start_time is not None:\n",
        "      raise TimerError(\"Timer is running. Use .stop()\")\n",
        "    self._start_time= time.perf_counter()\n",
        "  \n",
        "  def stop(self):\n",
        "    \"\"\"Save the elapsed time and re-initialize timer\"\"\"\n",
        "    if self._start_time is None:\n",
        "      raise TimerError(\"Timer is not running. Use start()\")\n",
        "    self._elapsed_time= time.perf_counter() - self._start_time\n",
        "    self._start_time= None\n",
        "\n",
        "  def elapsed(self):\n",
        "    \"\"\"Report elapsed time\"\"\"\n",
        "    if self._elapsed_time is None:\n",
        "      raise TimerError(\"Timer has not been run yet. Use start()\")\n",
        "    return self._elapsed_time\n",
        "\n",
        "  def __str__(self):\n",
        "    \"\"\"print() prints elapsed time\"\"\"\n",
        "    return str(self._elapsed_time)"
      ],
      "execution_count": 1,
      "outputs": []
    },
    {
      "cell_type": "markdown",
      "metadata": {
        "id": "7MwQkhDqgYLa"
      },
      "source": [
        "### **Appending in lists**"
      ]
    },
    {
      "cell_type": "code",
      "metadata": {
        "colab": {
          "base_uri": "https://localhost:8080/"
        },
        "id": "I0XBmsRagXBT",
        "outputId": "045e4643-f4ae-465e-d1d2-63289bfdeb0a"
      },
      "source": [
        "t= Timer()\n",
        "t.start()\n",
        "l=[]\n",
        "for i in range(10000000):\n",
        "  l.append(i)\n",
        "t.stop()\n",
        "print(t)"
      ],
      "execution_count": 2,
      "outputs": [
        {
          "output_type": "stream",
          "name": "stdout",
          "text": [
            "1.8245752469999843\n"
          ]
        }
      ]
    },
    {
      "cell_type": "markdown",
      "metadata": {
        "id": "B7tTbsx1gx3d"
      },
      "source": [
        "### **Inserting in lists**"
      ]
    },
    {
      "cell_type": "code",
      "metadata": {
        "colab": {
          "base_uri": "https://localhost:8080/"
        },
        "id": "ZJ7iJwxsgil6",
        "outputId": "48b9437a-f275-4a20-ebe5-902b2224348b"
      },
      "source": [
        "t= Timer()\n",
        "t.start()\n",
        "l=[]\n",
        "for i in range(300000):\n",
        "  l.insert(0,i)\n",
        "t.stop()\n",
        "print(t)"
      ],
      "execution_count": 3,
      "outputs": [
        {
          "output_type": "stream",
          "name": "stdout",
          "text": [
            "24.706519836000012\n"
          ]
        }
      ]
    },
    {
      "cell_type": "markdown",
      "metadata": {
        "id": "QdYqfYljg4Ta"
      },
      "source": [
        "## **Searching in lists**"
      ]
    },
    {
      "cell_type": "markdown",
      "metadata": {
        "id": "74RXrC_qhUAV"
      },
      "source": [
        "### **Naive Search**"
      ]
    },
    {
      "cell_type": "code",
      "metadata": {
        "id": "9RJjiTbZg3LO"
      },
      "source": [
        "def naivesearch_list(v,L):\n",
        "  for x in L:\n",
        "    if v==x:\n",
        "      return True\n",
        "  return False"
      ],
      "execution_count": 4,
      "outputs": []
    },
    {
      "cell_type": "markdown",
      "metadata": {
        "id": "hJoTbR38hek_"
      },
      "source": [
        "### **Binary Search**"
      ]
    },
    {
      "cell_type": "code",
      "metadata": {
        "id": "orKhfzLPheBX"
      },
      "source": [
        "def binarysearch_list(v,L):\n",
        "  if L==[]:\n",
        "    return False\n",
        "  \n",
        "  m= len(L)//2\n",
        "\n",
        "  if v==L[m]:\n",
        "    return True\n",
        "  \n",
        "  if v<L[m]:\n",
        "    return binarysearch_list(v,L[:m])\n",
        "  else:\n",
        "    return binarysearch_list(v,L[m+1:])"
      ],
      "execution_count": 5,
      "outputs": []
    },
    {
      "cell_type": "markdown",
      "metadata": {
        "id": "PwNCfozuhxII"
      },
      "source": [
        "## **Searching in Arrays**"
      ]
    },
    {
      "cell_type": "markdown",
      "metadata": {
        "id": "bDI5uUAoh3IB"
      },
      "source": [
        "### **Naive Search**"
      ]
    },
    {
      "cell_type": "code",
      "metadata": {
        "id": "PYSFB26khte1"
      },
      "source": [
        "def naivesearch_array(v,A,l,r):\n",
        "  for i in range(l,r):\n",
        "    if v==A[i]:\n",
        "      return True\n",
        "  return False"
      ],
      "execution_count": 6,
      "outputs": []
    },
    {
      "cell_type": "markdown",
      "metadata": {
        "id": "VARTTdHOh-pf"
      },
      "source": [
        "### **Binary Search**"
      ]
    },
    {
      "cell_type": "code",
      "metadata": {
        "id": "aPRFtXdch83-"
      },
      "source": [
        "def binarysearch_array(v,A,l,r):\n",
        "  if r-l<=0:\n",
        "    return False\n",
        "  \n",
        "  m= (l+r)//2\n",
        "\n",
        "  if v==A[m]:\n",
        "    return True\n",
        "  \n",
        "  if v<A[m]:\n",
        "    return binarysearch_array(v,A,l,m)\n",
        "  else:\n",
        "    return binarysearch_array(v,A,m+1,r)"
      ],
      "execution_count": 7,
      "outputs": []
    },
    {
      "cell_type": "markdown",
      "metadata": {
        "id": "zMRSz2YviJoJ"
      },
      "source": [
        "## **Performance comparision for Searching**"
      ]
    },
    {
      "cell_type": "markdown",
      "metadata": {
        "id": "fxVVJO1AiVqT"
      },
      "source": [
        "### **Naive Search vs Binary Search in lists**"
      ]
    },
    {
      "cell_type": "code",
      "metadata": {
        "colab": {
          "base_uri": "https://localhost:8080/"
        },
        "id": "wJks1rcpiITS",
        "outputId": "29bd5a74-7778-49d6-859c-a0d2e282877a"
      },
      "source": [
        "l=list(range(0,100000,2))\n",
        "t= Timer()\n",
        "t.start()\n",
        "for i in range(3001,13000,2):\n",
        "  v= naivesearch_list(i,l)\n",
        "t.stop()\n",
        "print()\n",
        "print(\"Naive Search \",t)\n",
        "\n",
        "t.start()\n",
        "for i in range(3001,13000,2):\n",
        "  v= binarysearch_list(i,l)\n",
        "t.stop()\n",
        "print()\n",
        "print(\"Binary Search \",t)"
      ],
      "execution_count": 8,
      "outputs": [
        {
          "output_type": "stream",
          "name": "stdout",
          "text": [
            "\n",
            "Naive Search  10.094504065000024\n",
            "\n",
            "Binary Search  0.8952102559999844\n"
          ]
        }
      ]
    },
    {
      "cell_type": "markdown",
      "metadata": {
        "id": "a_SDT8kwibnS"
      },
      "source": [
        "### **Naive Search vs Binary Search in arrays**"
      ]
    },
    {
      "cell_type": "code",
      "metadata": {
        "colab": {
          "base_uri": "https://localhost:8080/"
        },
        "id": "XJ99szweiVBD",
        "outputId": "bd86e0b5-cf7e-485f-c251-6423d546d6fd"
      },
      "source": [
        "import numpy as np\n",
        "arr= np.arange(0,100000,2)\n",
        "t= Timer()\n",
        "t.start()\n",
        "for i in range(3001,5000,2):\n",
        "  v= naivesearch_array(i,arr,0,np.prod(arr.shape))\n",
        "t.stop()\n",
        "print()\n",
        "print(\"Naive Search \",t)\n",
        "\n",
        "t.start()\n",
        "for i in range(3001,13000,2):\n",
        "  v= binarysearch_array(i,arr,0,np.prod(arr.shape))\n",
        "t.stop()\n",
        "print()\n",
        "print(\"Binary Search \",t)"
      ],
      "execution_count": 9,
      "outputs": [
        {
          "output_type": "stream",
          "name": "stdout",
          "text": [
            "\n",
            "Naive Search  17.95631065400002\n",
            "\n",
            "Binary Search  0.18663072599997577\n"
          ]
        }
      ]
    },
    {
      "cell_type": "markdown",
      "metadata": {
        "id": "2RVEnof0inmH"
      },
      "source": [
        "## **Sorting in Lists**"
      ]
    },
    {
      "cell_type": "markdown",
      "metadata": {
        "id": "6a2iFy-gitl7"
      },
      "source": [
        "### **Selection sort**"
      ]
    },
    {
      "cell_type": "code",
      "metadata": {
        "id": "f5ROQeTzikpJ"
      },
      "source": [
        "def selectionsort_list(L):\n",
        "  n=len(L)\n",
        "  if n<1:\n",
        "    return L\n",
        "  \n",
        "  for i in range(n):\n",
        "    # Assume L[:i] is sorted\n",
        "    mpos=i\n",
        "    # mpos is position of minimum in L[i:]\n",
        "    for j in range(i+1,n):\n",
        "      if L[j]<L[mpos]:\n",
        "        mpos=j\n",
        "    # L[mpos] is the smallest value in L[i:]\n",
        "    L[i],L[mpos]= L[mpos],L[i]\n",
        "    # Now L[:i+1] is sorted\n",
        "  return L"
      ],
      "execution_count": 10,
      "outputs": []
    },
    {
      "cell_type": "markdown",
      "metadata": {
        "id": "nH8Oi9vIi1bV"
      },
      "source": [
        "### **Insertion sort (iterative)**"
      ]
    },
    {
      "cell_type": "code",
      "metadata": {
        "id": "-EpYJXRzizLi"
      },
      "source": [
        "def insertionsort_list(l):\n",
        "  n=len(l)\n",
        "  if n<1:\n",
        "    return l\n",
        "  \n",
        "  for i in range(n):\n",
        "    # assume l[:i] is sorted\n",
        "    # move l[i] to correct position in l\n",
        "    j=i\n",
        "    while (j>0 and l[j]<l[j-1]):\n",
        "      l[j],l[j-1]= l[j-1],l[j]\n",
        "      j-=1\n",
        "    #now l[:i+1] is sorted\n",
        "  return l"
      ],
      "execution_count": 11,
      "outputs": []
    },
    {
      "cell_type": "markdown",
      "metadata": {
        "id": "p_PON1h-i-SZ"
      },
      "source": [
        "### **Merge sort**"
      ]
    },
    {
      "cell_type": "code",
      "metadata": {
        "id": "ocIc5T4yi8VX"
      },
      "source": [
        "def merge_list(a,b):\n",
        "  m,n= len(a), len(b)\n",
        "  c=[]\n",
        "  i,j,k= 0,0,0\n",
        "\n",
        "  while k<m+n:\n",
        "    if i==m:\n",
        "      c.extend(b[j:])\n",
        "      k += n-j\n",
        "\n",
        "    elif j==n:\n",
        "      c.extend(a[i:])\n",
        "      k+= n-i\n",
        "\n",
        "    elif a[i]<b[j]:\n",
        "      c.append(a[i])\n",
        "      i,k= i+1, k+1\n",
        "    \n",
        "    else:\n",
        "      c.append(b[j])\n",
        "      j,k= j+1, k+1\n",
        "  return c\n",
        "\n",
        "def mergesort_list(a):\n",
        "  n=len(a)\n",
        "  if n<=1:\n",
        "    return a\n",
        "\n",
        "  l= mergesort_list(a[:n//2])\n",
        "  r= mergesort_list(a[n//2:])\n",
        "\n",
        "  v= merge_list(l,r)\n",
        "  return v"
      ],
      "execution_count": 12,
      "outputs": []
    },
    {
      "cell_type": "markdown",
      "metadata": {
        "id": "igLXzuD8jGc8"
      },
      "source": [
        "## **Sorting in Arrays**"
      ]
    },
    {
      "cell_type": "markdown",
      "metadata": {
        "id": "2f99EsktjMy7"
      },
      "source": [
        "### **Selection sort**"
      ]
    },
    {
      "cell_type": "code",
      "metadata": {
        "id": "ZOJ81-tQjCza"
      },
      "source": [
        "def selectionsort_array(A):\n",
        "  n=np.prod(A.shape)\n",
        "  if n<1:\n",
        "    return A\n",
        "  \n",
        "  for i in range(n):\n",
        "    # Assume A[:i] is sorted\n",
        "    mpos=i\n",
        "    # mpos is position of minimum in A[i:]\n",
        "    for j in range(i+1,n):\n",
        "      if A[j]<A[mpos]:\n",
        "        mpos=j\n",
        "    # A[mpos] is the smallest value in A[i:]\n",
        "    A[i],A[mpos]= A[mpos],A[i]\n",
        "    # Now A[:i+1] is sorted\n",
        "  return A"
      ],
      "execution_count": 13,
      "outputs": []
    },
    {
      "cell_type": "markdown",
      "metadata": {
        "id": "VoyC-j5LjSlR"
      },
      "source": [
        "### **Insertion sort (iterative)**"
      ]
    },
    {
      "cell_type": "code",
      "metadata": {
        "id": "fu6vdcT-jQrS"
      },
      "source": [
        "def insertionsort_array(A):\n",
        "  n=len(A)\n",
        "  if n<1:\n",
        "    return A\n",
        "  \n",
        "  for i in range(n):\n",
        "    # Assume A[:i] is sorted\n",
        "    # Move A[i] to correct position in A[:i]\n",
        "    j=i\n",
        "    while (j>0 and A[j]<A[j-1]):\n",
        "      A[j],A[j-1]= A[j-1],A[j]\n",
        "      j-=1\n",
        "    #now A[:i+1] is sorted\n",
        "  return l"
      ],
      "execution_count": 14,
      "outputs": []
    },
    {
      "cell_type": "markdown",
      "metadata": {
        "id": "6NA-hd2qjZc6"
      },
      "source": [
        "### **Merge sort**"
      ]
    },
    {
      "cell_type": "code",
      "metadata": {
        "id": "PLSftbM5jX4e"
      },
      "source": [
        "def merge_array(a,b):\n",
        "  m,n= np.prod(a.shape), np.prod(b.shape)\n",
        "  c= np.zeros(m+n,dtype=int)\n",
        "  i,j,k= 0,0,0\n",
        "\n",
        "  while k<m+n:\n",
        "    if i==m:\n",
        "      c[k]= b[j]\n",
        "      j,k= j+1,k+1\n",
        "\n",
        "    elif j==n:\n",
        "      c[k]= a[i]\n",
        "      i,k= i+1,k+1\n",
        "\n",
        "    elif a[i]<b[j]:\n",
        "      c[k]= a[i]\n",
        "      i,k= i+1, k+1\n",
        "    \n",
        "    else:\n",
        "      c[k]= b[j]\n",
        "      j,k= j+1, k+1\n",
        "  return c\n",
        "\n",
        "def mergesort_array(a,l,r):\n",
        "  if r-l<=1:\n",
        "    b= np.array(a[l:r])\n",
        "    return b\n",
        "\n",
        "  mid= (l+r)//2\n",
        "  l= mergesort_array(a,l,mid)\n",
        "  r= mergesort_array(a,mid,r)\n",
        "\n",
        "  v= merge_array(l,r)\n",
        "  return v"
      ],
      "execution_count": 15,
      "outputs": []
    },
    {
      "cell_type": "markdown",
      "metadata": {
        "id": "flMRMVZWju8Q"
      },
      "source": [
        "## **Performance comparision for Sorting**"
      ]
    },
    {
      "cell_type": "markdown",
      "metadata": {
        "id": "E5BUNMUFkVRI"
      },
      "source": [
        "### **Selection sort performance on list**"
      ]
    },
    {
      "cell_type": "code",
      "metadata": {
        "colab": {
          "base_uri": "https://localhost:8080/"
        },
        "id": "_KLZs5nTjef7",
        "outputId": "ad6317cd-6546-4769-d161-7e98a7ee90ad"
      },
      "source": [
        "import random\n",
        "random.seed(2021)\n",
        "inputlists= {}\n",
        "inputlists[\"random\"]= [random.randrange(100000) for i in range(10000)]\n",
        "inputlists[\"ascending\"]= [i for i in range(10000)]\n",
        "inputlists[\"descending\"]= [i for i in range(9999,-1,-1)]\n",
        "t= Timer()\n",
        "for k in inputlists.keys():\n",
        "  tmplist= inputlists[k][:]\n",
        "  t.start()\n",
        "  selectionsort_list(tmplist)\n",
        "  t.stop()\n",
        "  print(k,t)"
      ],
      "execution_count": 16,
      "outputs": [
        {
          "output_type": "stream",
          "name": "stdout",
          "text": [
            "random 4.759508088000018\n",
            "ascending 4.710829973000045\n",
            "descending 4.946194216000038\n"
          ]
        }
      ]
    },
    {
      "cell_type": "markdown",
      "metadata": {
        "id": "5FJRS6cWkd_O"
      },
      "source": [
        "### **Selection sort performance on array**"
      ]
    },
    {
      "cell_type": "code",
      "metadata": {
        "colab": {
          "base_uri": "https://localhost:8080/"
        },
        "id": "sNRhL1zekcEj",
        "outputId": "22711d54-4373-494f-e933-6edf21c9c34e"
      },
      "source": [
        "import numpy as np\n",
        "import random\n",
        "random.seed(2021)\n",
        "inputarrays= {}\n",
        "inputarrays[\"random\"]= np.arange(10000)\n",
        "for i in range(10000):\n",
        "  inputarrays[\"random\"][i]= random.randrange(100000)\n",
        "inputarrays[\"ascending\"]= np.arange(10000)\n",
        "inputarrays[\"descending\"]= np.arange(9999,-1,-1)\n",
        "t= Timer()\n",
        "for k in inputarrays.keys():\n",
        "  tmparray= inputarrays[k][:]\n",
        "  t.start()\n",
        "  selectionsort_array(tmparray)\n",
        "  t.stop()\n",
        "  print(k,t)"
      ],
      "execution_count": 17,
      "outputs": [
        {
          "output_type": "stream",
          "name": "stdout",
          "text": [
            "random 16.482024507999995\n",
            "ascending 16.35668369199999\n",
            "descending 17.547942421000016\n"
          ]
        }
      ]
    },
    {
      "cell_type": "markdown",
      "metadata": {
        "id": "1pt84SJZkl83"
      },
      "source": [
        "### **Insertion sort performance on list**"
      ]
    },
    {
      "cell_type": "code",
      "metadata": {
        "colab": {
          "base_uri": "https://localhost:8080/"
        },
        "id": "_5Td33SDkkCM",
        "outputId": "e8617678-90a8-400e-cd1c-9675de78f4bc"
      },
      "source": [
        "import random\n",
        "random.seed(2021)\n",
        "inputlists= {}\n",
        "inputlists[\"random\"]= [random.randrange(100000) for i in range(10000)]\n",
        "inputlists[\"ascending\"]= [i for i in range(10000)]\n",
        "inputlists[\"descending\"]= [i for i in range(9999,-1,-1)]\n",
        "t= Timer()\n",
        "for k in inputlists.keys():\n",
        "  tmplist= inputlists[k][:]\n",
        "  t.start()\n",
        "  insertionsort_list(tmplist)\n",
        "  t.stop()\n",
        "  print(k,t)"
      ],
      "execution_count": 18,
      "outputs": [
        {
          "output_type": "stream",
          "name": "stdout",
          "text": [
            "random 9.434033969999973\n",
            "ascending 0.001806722000026184\n",
            "descending 18.734889656999997\n"
          ]
        }
      ]
    },
    {
      "cell_type": "markdown",
      "metadata": {
        "id": "s6-yOXS-kxNK"
      },
      "source": [
        "### **Insertion sort performance on array**"
      ]
    },
    {
      "cell_type": "code",
      "metadata": {
        "colab": {
          "base_uri": "https://localhost:8080/"
        },
        "id": "N5l115Biku1o",
        "outputId": "287f3e57-93d7-4f83-f3e2-d4fc2f73a50b"
      },
      "source": [
        "import numpy as np\n",
        "import random\n",
        "random.seed(2021)\n",
        "inputarrays= {}\n",
        "inputarrays[\"random\"]= np.arange(10000)\n",
        "for i in range(10000):\n",
        "  inputarrays[\"random\"][i]= random.randrange(100000)\n",
        "inputarrays[\"ascending\"]= np.arange(10000)\n",
        "inputarrays[\"descending\"]= np.arange(9999,-1,-1)\n",
        "t= Timer()\n",
        "for k in inputarrays.keys():\n",
        "  tmparray= inputarrays[k][:]\n",
        "  t.start()\n",
        "  insertionsort_array(tmparray)\n",
        "  t.stop()\n",
        "  print(k,t)"
      ],
      "execution_count": 19,
      "outputs": [
        {
          "output_type": "stream",
          "name": "stdout",
          "text": [
            "random 22.828314265000017\n",
            "ascending 0.003825168999981088\n",
            "descending 45.69186652600001\n"
          ]
        }
      ]
    },
    {
      "cell_type": "markdown",
      "metadata": {
        "id": "7ikNa26uk3-Z"
      },
      "source": [
        "### **Merge sort performance on list**"
      ]
    },
    {
      "cell_type": "code",
      "metadata": {
        "colab": {
          "base_uri": "https://localhost:8080/"
        },
        "id": "D0g8bivik0od",
        "outputId": "d1ba1dca-835a-404b-a2fc-546bdc6168c6"
      },
      "source": [
        "import random\n",
        "random.seed(2021)\n",
        "inputlists= {}\n",
        "inputlists[\"random\"]= [random.randrange(100000000) for i in range(1000000)]\n",
        "inputlists[\"ascending\"]= [i for i in range(1000000)]\n",
        "inputlists[\"descending\"]= [i for i in range(999999,-1,-1)]\n",
        "t= Timer()\n",
        "for k in inputlists.keys():\n",
        "  tmplist= inputlists[k][:]\n",
        "  t.start()\n",
        "  mergesort_list(tmplist)\n",
        "  t.stop()\n",
        "  print(k,t)"
      ],
      "execution_count": 20,
      "outputs": [
        {
          "output_type": "stream",
          "name": "stdout",
          "text": [
            "random 9.466167318000032\n",
            "ascending 5.0570850789999895\n",
            "descending 5.135209928999984\n"
          ]
        }
      ]
    },
    {
      "cell_type": "markdown",
      "metadata": {
        "id": "Cs0Gg3qslDNz"
      },
      "source": [
        "### **Merge sort performance on array**"
      ]
    },
    {
      "cell_type": "code",
      "metadata": {
        "colab": {
          "base_uri": "https://localhost:8080/"
        },
        "id": "iKUQPMe1lCkn",
        "outputId": "0c4b81f2-cd57-4aa3-d46c-848276e7ec08"
      },
      "source": [
        "import numpy as np\n",
        "import random\n",
        "random.seed(2021)\n",
        "inputarrays= {}\n",
        "inputarrays[\"random\"]= np.arange(1000000)\n",
        "for i in range(1000000):\n",
        "  inputarrays[\"random\"][i]= random.randrange(100000000)\n",
        "inputarrays[\"ascending\"]= np.arange(1000000)\n",
        "inputarrays[\"descending\"]= np.arange(999999,-1,-1)\n",
        "t= Timer()\n",
        "for k in inputarrays.keys():\n",
        "  tmparray= inputarrays[k][:]\n",
        "  t.start()\n",
        "  mergesort_array(tmparray,0,1000000)\n",
        "  t.stop()\n",
        "  print(k,t)"
      ],
      "execution_count": 21,
      "outputs": [
        {
          "output_type": "stream",
          "name": "stdout",
          "text": [
            "random 50.38900010399999\n",
            "ascending 44.71900608499999\n",
            "descending 47.05509812199989\n"
          ]
        }
      ]
    },
    {
      "cell_type": "markdown",
      "metadata": {
        "id": "wmOhtwCilJQp"
      },
      "source": [
        "Theoretically arrays should be better than lists.  \n",
        "* Python lists seem to be better than arrays when the only thing that matters is indexing.\n",
        "* When there's no use of complex operations then using lists are better.\n",
        "* When using 2D representation like in graphs and trees and do some operations on it then numpy array is more preferable."
      ]
    },
    {
      "cell_type": "code",
      "metadata": {
        "id": "o3NfIxZVlIXZ"
      },
      "source": [
        ""
      ],
      "execution_count": 21,
      "outputs": []
    }
  ]
}