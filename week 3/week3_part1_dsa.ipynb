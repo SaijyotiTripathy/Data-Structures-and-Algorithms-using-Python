{
  "nbformat": 4,
  "nbformat_minor": 0,
  "metadata": {
    "colab": {
      "name": "week3 part1 dsa.ipynb",
      "provenance": [],
      "collapsed_sections": []
    },
    "kernelspec": {
      "name": "python3",
      "display_name": "Python 3"
    },
    "language_info": {
      "name": "python"
    }
  },
  "cells": [
    {
      "cell_type": "code",
      "metadata": {
        "id": "IVJEUUcejcKp"
      },
      "source": [
        "import time \n",
        "\n",
        "class TimerError(Exception):\n",
        "  \"\"\"A custom exception used to report errors in use of Timer class\"\"\"\n",
        "\n",
        "class Timer:\n",
        "  def __init__(self):\n",
        "    self._start_time= None\n",
        "    self._elapsed_time= None\n",
        "  \n",
        "  def start(self):\n",
        "    \"\"\"Start a new timer\"\"\"\n",
        "    if self._start_time is not None:\n",
        "      raise TimerError(\"Timer is running. Use .stop()\")\n",
        "    self._start_time= time.perf_counter()\n",
        "  \n",
        "  def stop(self):\n",
        "    \"\"\"Save the elapsed time and re-initialize timer\"\"\"\n",
        "    if self._start_time is None:\n",
        "      raise TimerError(\"Timer is not running. Use start()\")\n",
        "    self._elapsed_time= time.perf_counter() - self._start_time\n",
        "    self._start_time= None\n",
        "\n",
        "  def elapsed(self):\n",
        "    \"\"\"Report elapsed time\"\"\"\n",
        "    if self._elapsed_time is None:\n",
        "      raise TimerError(\"Timer has not been run yet. Use start()\")\n",
        "    return self._elapsed_time\n",
        "\n",
        "  def __str__(self):\n",
        "    \"\"\"print() prints elapsed time\"\"\"\n",
        "    return str(self._elapsed_time)"
      ],
      "execution_count": 1,
      "outputs": []
    },
    {
      "cell_type": "markdown",
      "metadata": {
        "id": "GtVENQMfbImd"
      },
      "source": [
        "## **Quick Sort**\n",
        "**T(n) is O(n log n)**"
      ]
    },
    {
      "cell_type": "markdown",
      "metadata": {
        "id": "-DwQzhHlk94j"
      },
      "source": [
        "Uses divide and conquer <br>\n",
        "Sorts in place"
      ]
    },
    {
      "cell_type": "markdown",
      "metadata": {
        "id": "wS9LS5yokNK5"
      },
      "source": [
        "Worst case complexity(sorted array) is O(n^2) <br>\n",
        "Randomly choosing the pivot is a good strategy to beat worst case inputs"
      ]
    },
    {
      "cell_type": "markdown",
      "metadata": {
        "id": "3fMOOeACkbFY"
      },
      "source": [
        "Partitioning wrt the pivot takes time O(n) <br>\n",
        "If the pivot is the median <br>\n",
        "*T(n) = 2T(n/2)+n* <br>\n",
        "*T(n)* is *O(n log n)*"
      ]
    },
    {
      "cell_type": "code",
      "metadata": {
        "id": "wEmg5KmzbDMd"
      },
      "source": [
        "import sys\n",
        "sys.setrecursionlimit(2**31-1)"
      ],
      "execution_count": 2,
      "outputs": []
    },
    {
      "cell_type": "code",
      "metadata": {
        "id": "8ktkxBeGhLSE"
      },
      "source": [
        "def quick_sort(L,l,r):\n",
        "  if (r-1<=1):\n",
        "    return\n",
        "  \n",
        "  pivot,lower,upper= L[l],l+1,l+1\n",
        "  for i in range(l+1,r):\n",
        "    if L[i]>pivot:   # Extend upper segment\n",
        "      upper+=1\n",
        "    else:            # Exchange L[i] with start of upper segment\n",
        "      L[i],L[lower]= L[lower],L[i]\n",
        "      # Shift both segments\n",
        "      lower+=1\n",
        "      upper+=1\n",
        "    # Move pivot between lower and upper\n",
        "    L[l],L[lower-1]= L[lower-1],L[l]\n",
        "    lower-=1\n",
        "    # Recursive calls\n",
        "    quick_sort(L,l,lower)\n",
        "    quick_sort(L,lower+1,upper)\n",
        "    return L"
      ],
      "execution_count": 3,
      "outputs": []
    },
    {
      "cell_type": "markdown",
      "metadata": {
        "id": "p79KR7VDj6lu"
      },
      "source": [
        "### Performance"
      ]
    },
    {
      "cell_type": "code",
      "metadata": {
        "colab": {
          "base_uri": "https://localhost:8080/"
        },
        "id": "kRwsMwKLjNrs",
        "outputId": "54dd2993-70a4-4a8b-8970-d6b7b259fc3c"
      },
      "source": [
        "import random\n",
        "inputlists={}\n",
        "inputlists['random']= [random.randrange(100000000) for i in range(1000000)]\n",
        "inputlists['ascending']= [i for i in range(1000000)]\n",
        "inputlists['descending']= [i for i in range(999999,-1,-1)]\n",
        "\n",
        "t=Timer()\n",
        "for k in inputlists.keys():\n",
        "  tlist= inputlists[k][:]\n",
        "  t.start()\n",
        "  quick_sort(tlist, 0, len(tlist))\n",
        "  t.stop()\n",
        "  print(k,t)"
      ],
      "execution_count": 4,
      "outputs": [
        {
          "output_type": "stream",
          "name": "stdout",
          "text": [
            "random 1.518199951533461e-05\n",
            "ascending 1.4246000318962615e-05\n",
            "descending 1.4051999642106239e-05\n"
          ]
        }
      ]
    },
    {
      "cell_type": "markdown",
      "metadata": {
        "id": "9O9Ce7XFnmxQ"
      },
      "source": [
        "# **Difference between Lists and Arrays**"
      ]
    },
    {
      "cell_type": "markdown",
      "metadata": {
        "id": "X-WZmYOPoOa2"
      },
      "source": [
        "## **Lists**"
      ]
    },
    {
      "cell_type": "markdown",
      "metadata": {
        "id": "zYG19nRfoV-J"
      },
      "source": [
        "* Flexible length\n",
        "* Easy to modify the structure\n",
        "* Values are scattered in memory"
      ]
    },
    {
      "cell_type": "markdown",
      "metadata": {
        "id": "2JRobDTEoqKi"
      },
      "source": [
        "* Typically a sequence of nodes\n",
        "* Each node contains a value and points to the next node in the sequence\n",
        "* Easy to modify\n",
        "   - Inserting and deleting is easy\n",
        "   - Flexible size\n",
        "* Need to follow links to access *A[ i ]*\n",
        "   - Takes time O(i)"
      ]
    },
    {
      "cell_type": "markdown",
      "metadata": {
        "id": "Btd_gQyFpW-s"
      },
      "source": [
        "## **Arrays**"
      ]
    },
    {
      "cell_type": "markdown",
      "metadata": {
        "id": "Bk2uftEOpamu"
      },
      "source": [
        "* Fixed size\n",
        "* Allocate a contiguous block of memory\n",
        "* Supports random access\n",
        "\n"
      ]
    },
    {
      "cell_type": "markdown",
      "metadata": {
        "id": "LBQz91O0pkI7"
      },
      "source": [
        "* Fixed size, declared in advance\n",
        "* Allocate a contiguous block of memory\n",
        "   - n times the storage for a single value\n",
        "* \"Random\" access\n",
        "   - Compute offset to *A[ i ]* from *A[ 0 ]*\n",
        "   - Accessing *A[ i ]* takes constant time, independent of i\n",
        "* Inserting and deleting elements is expensive\n",
        "   - Expanding and contracting requires moving O(n) elements in the worst case"
      ]
    },
    {
      "cell_type": "markdown",
      "metadata": {
        "id": "8DexqsbIqjlS"
      },
      "source": [
        "## **Operations**"
      ]
    },
    {
      "cell_type": "markdown",
      "metadata": {
        "id": "U6yXrejJqsR6"
      },
      "source": [
        "* Exchange *A[ i ]* and *A[ j ]*\n",
        "  - Constant time for arrays\n",
        "  - O(n) for lists\n",
        "* Delete *A[ i ]*, insert *v* after *A[ i ]*\n",
        "  - Constant time for lists if we are already at *A[ i ]*\n",
        "  - O(n) for arrays\n",
        "* Need to keep implementation in mind when analyzing data structures\n",
        "  - For instance, can we use binary search to insert in a sorted sequence?\n",
        "  - Either search is slow, or the insertion is slow, still O(n)\n"
      ]
    },
    {
      "cell_type": "markdown",
      "metadata": {
        "id": "75DGXi2usd0u"
      },
      "source": [
        "## **Summery**"
      ]
    },
    {
      "cell_type": "markdown",
      "metadata": {
        "id": "EUTH6fv0sgSi"
      },
      "source": [
        "* Sequences can be stored as lists or arrays\n",
        "* Lists are flexible but accessing element is O(n)\n",
        "* Arrays suport random access but are difficult to expand, contract\n",
        "* Algorithm analysis needs to take into account the underlying implementation"
      ]
    },
    {
      "cell_type": "markdown",
      "metadata": {
        "id": "D6_qrNPRtI7A"
      },
      "source": [
        "## **Designing a Flexible List**"
      ]
    },
    {
      "cell_type": "markdown",
      "metadata": {
        "id": "rjOEBavouE6H"
      },
      "source": [
        "* Python class *Node*\n",
        "* A list is a sequence of nodes\n",
        "  - *self.value* is the stored value\n",
        "  - *self.next* points to next node\n",
        "* Empty list?\n",
        "  - *self.value* is *None*\n",
        "* Creating lists\n",
        "  - *l1= Node()*  ---- empty list\n",
        "  - *l2= Node(5)*  ---- singleton list\n",
        "  - *l1.isempty() --- True*\n",
        "  - l2.isempty() --- False\n",
        "* Appending to a list (Add *v* to the end of list *l*)\n",
        "  - Normal implementation\n",
        "    - If *l* is empty, update *l.value* from *None* to *v*\n",
        "    - If at last value (*l.next* is *None*), point *next* at new node with value *v*\n",
        "    - Otherwise recursively append to rest of list\n",
        "  - Iterative implementation\n",
        "     - If empty, replace *l.value* by *v*\n",
        "     - Loop through *l.next* to end of list\n",
        "     - Add v at the end of the list\n",
        "  - Inserting an element\n",
        "    - Create a new node with *v*\n",
        "    - Exchange the values *v0*, *v*\n",
        "    - Make new node point to *head.next*\n",
        "    - Make *head.next* point to new node\n",
        "\n",
        "* Deleting from a list (Remove first occurance of *v*)\n",
        "  - Scan list for first v --- look ahead at next node\n",
        "  - If next node value is v, bypass it\n",
        "  - Can't bypass the first node in the list\n",
        "    - Instead copy the second node value to head\n",
        "    - Bypass second node\n"
      ]
    },
    {
      "cell_type": "code",
      "metadata": {
        "id": "vQOv30_HjhS-"
      },
      "source": [
        "class Node:\n",
        "  def __init__(self, v=None):     # Initializing empty list\n",
        "    self.value= v\n",
        "    self.next= None\n",
        "  \n",
        "  def isempty(self):\n",
        "    if self.value== None:\n",
        "      return True\n",
        "    else:\n",
        "      return False\n",
        "  \n",
        "  def append(self,v):\n",
        "    if self.isempty():\n",
        "      self.value=v\n",
        "    elif self.next== None:\n",
        "      self.next= Node(v)\n",
        "    else:\n",
        "      self.next.append(v)\n",
        "    return\n",
        "\n",
        "  def append(self,v):\n",
        "    if self.isempty():\n",
        "      self.value=v\n",
        "      return\n",
        "\n",
        "    temp=self\n",
        "    while temp.next !=None:\n",
        "      temp=temp.next\n",
        "    \n",
        "    temp.next= Node(v)\n",
        "    return\n",
        "\n",
        "  def insert(self,v):\n",
        "    if self.isempty():\n",
        "      self.value=v\n",
        "      return\n",
        "    \n",
        "    newnode= Node(v)\n",
        "\n",
        "    # Exchange values in self and newnode\n",
        "    self.value, newnode.value = newnode.value, self.value\n",
        "\n",
        "    # Switch links\n",
        "    self.next, newnode.next = newnode, self.next\n",
        "    return\n",
        "\n",
        "  def delete(self,v):\n",
        "    if self.isempty():\n",
        "      return\n",
        "    \n",
        "    if self.value==v:\n",
        "      self.value= None\n",
        "      if self.next != None:\n",
        "        self.value= self.next.value\n",
        "        self.next= self.next.next\n",
        "      return\n",
        "    \n",
        "    else:\n",
        "      if self.next != None:\n",
        "        self.next.delete(v)\n",
        "        if self.next.value== None:\n",
        "          self.next= None\n",
        "    return"
      ],
      "execution_count": 5,
      "outputs": []
    },
    {
      "cell_type": "markdown",
      "metadata": {
        "id": "UH30p0zVP5U9"
      },
      "source": [
        "# **Lists in Python**"
      ]
    },
    {
      "cell_type": "markdown",
      "metadata": {
        "id": "MCSTCdmGQVGv"
      },
      "source": [
        "* Python lists are not implemented as flexible linked lists\n",
        "* Underlying interpretation maps the list to an array\n",
        "   - Assign a fixed block when you create a list\n",
        "   - Double the size if the list overflows the array\n",
        "* Keep track of the last position of the list in the array\n",
        "   - *l.append()* and *l.pop()* are constant time, amortised -- *O(1)*\n",
        "   - Insertion/deletion require time *O(n)*\n",
        "* Effectively, Python lists behave more like arrays than lists"
      ]
    },
    {
      "cell_type": "markdown",
      "metadata": {
        "id": "QRmk48mAadyo"
      },
      "source": [
        "# **Arrays vs Lists in Python**"
      ]
    },
    {
      "cell_type": "markdown",
      "metadata": {
        "id": "3lUbfdSvaiXn"
      },
      "source": [
        "* Arrays are useful for representing matrices\n",
        "* In list notation, these are nested lists\n",
        "* Need to be careful when initializing a multidimentional list"
      ]
    },
    {
      "cell_type": "code",
      "metadata": {
        "colab": {
          "base_uri": "https://localhost:8080/"
        },
        "id": "W0hKe94EbfBu",
        "outputId": "ad6ad361-af63-416a-e88d-e030889a9a9b"
      },
      "source": [
        "zerolist=[0,0,0]\n",
        "zeromatrix= [zerolist,zerolist,zerolist]\n",
        "\n",
        "zeromatrix[1][1]=1\n",
        "print(zeromatrix)\n",
        "\n",
        "# Mutability aliases different values"
      ],
      "execution_count": 6,
      "outputs": [
        {
          "output_type": "stream",
          "name": "stdout",
          "text": [
            "[[0, 1, 0], [0, 1, 0], [0, 1, 0]]\n"
          ]
        }
      ]
    },
    {
      "cell_type": "code",
      "metadata": {
        "colab": {
          "base_uri": "https://localhost:8080/"
        },
        "id": "_pzNkF6mby9G",
        "outputId": "2d475f3c-d119-4290-93ce-696ea2b277f9"
      },
      "source": [
        "zeromatrix= [ [0 for i in range(3)] for j in range(3)]\n",
        "\n",
        "zeromatrix[1][1]=1\n",
        "print(zeromatrix)"
      ],
      "execution_count": 7,
      "outputs": [
        {
          "output_type": "stream",
          "name": "stdout",
          "text": [
            "[[0, 0, 0], [0, 1, 0], [0, 0, 0]]\n"
          ]
        }
      ]
    },
    {
      "cell_type": "markdown",
      "metadata": {
        "id": "DEsPMQmMbR2F"
      },
      "source": [
        "# **Numpy Arrays**"
      ]
    },
    {
      "cell_type": "markdown",
      "metadata": {
        "id": "8r5rI06gbUwM"
      },
      "source": [
        "* The Numpy library provides arrays as a basic type.\n",
        "\n",
        "\n"
      ]
    },
    {
      "cell_type": "code",
      "metadata": {
        "id": "zw52Xskb3dhn",
        "colab": {
          "base_uri": "https://localhost:8080/"
        },
        "outputId": "3f409003-8ac0-4f5e-8f61-3dcde99b2386"
      },
      "source": [
        "import numpy as np\n",
        "zeromatrix= np.zeros(shape=(3,3))\n",
        "print(zeromatrix)"
      ],
      "execution_count": 8,
      "outputs": [
        {
          "output_type": "stream",
          "name": "stdout",
          "text": [
            "[[0. 0. 0.]\n",
            " [0. 0. 0.]\n",
            " [0. 0. 0.]]\n"
          ]
        }
      ]
    },
    {
      "cell_type": "markdown",
      "metadata": {
        "id": "nknJG4jucU3p"
      },
      "source": [
        "* Can create array from any sequence type"
      ]
    },
    {
      "cell_type": "code",
      "metadata": {
        "colab": {
          "base_uri": "https://localhost:8080/"
        },
        "id": "OcDh9XIucKD5",
        "outputId": "dfa72020-350e-48f1-ba5d-c064c557f75a"
      },
      "source": [
        "newarray= np.array([[0,1],[1,0]])\n",
        "print(newarray)"
      ],
      "execution_count": 9,
      "outputs": [
        {
          "output_type": "stream",
          "name": "stdout",
          "text": [
            "[[0 1]\n",
            " [1 0]]\n"
          ]
        }
      ]
    },
    {
      "cell_type": "markdown",
      "metadata": {
        "id": "hW7U1GKmchi1"
      },
      "source": [
        "* *arange* is the equivalent of *range* for lists"
      ]
    },
    {
      "cell_type": "code",
      "metadata": {
        "colab": {
          "base_uri": "https://localhost:8080/"
        },
        "id": "hisSFsdAcdLN",
        "outputId": "fda7a528-75b3-4ea1-9c1d-f90835f4f089"
      },
      "source": [
        "row2= np.arange(5)\n",
        "row2"
      ],
      "execution_count": 10,
      "outputs": [
        {
          "output_type": "execute_result",
          "data": {
            "text/plain": [
              "array([0, 1, 2, 3, 4])"
            ]
          },
          "metadata": {},
          "execution_count": 10
        }
      ]
    },
    {
      "cell_type": "markdown",
      "metadata": {
        "id": "pGlxGHR2csEe"
      },
      "source": [
        "* Can operate on a matrix as a whole"
      ]
    },
    {
      "cell_type": "code",
      "metadata": {
        "id": "cxQiXfnVcrJB"
      },
      "source": [
        "A= np.array([[1,0,0],[0,2,3],[1,4,7]])\n",
        "B= np.array([[2,1,1],[1,1,0],[0,1,0]])"
      ],
      "execution_count": 11,
      "outputs": []
    },
    {
      "cell_type": "code",
      "metadata": {
        "colab": {
          "base_uri": "https://localhost:8080/"
        },
        "id": "6qWkJpGHdCkT",
        "outputId": "42808be1-2a40-4254-a269-4b613b78cc7e"
      },
      "source": [
        "C=3*A+B\n",
        "C"
      ],
      "execution_count": 12,
      "outputs": [
        {
          "output_type": "execute_result",
          "data": {
            "text/plain": [
              "array([[ 5,  1,  1],\n",
              "       [ 1,  7,  9],\n",
              "       [ 3, 13, 21]])"
            ]
          },
          "metadata": {},
          "execution_count": 12
        }
      ]
    },
    {
      "cell_type": "code",
      "metadata": {
        "colab": {
          "base_uri": "https://localhost:8080/"
        },
        "id": "OmN4nUWadFhU",
        "outputId": "00901a8d-4f35-49a2-f4cf-d98c68ee8771"
      },
      "source": [
        "C= np.matmul(A,B)\n",
        "C"
      ],
      "execution_count": 13,
      "outputs": [
        {
          "output_type": "execute_result",
          "data": {
            "text/plain": [
              "array([[ 2,  1,  1],\n",
              "       [ 2,  5,  0],\n",
              "       [ 6, 12,  1]])"
            ]
          },
          "metadata": {},
          "execution_count": 13
        }
      ]
    },
    {
      "cell_type": "markdown",
      "metadata": {
        "id": "Td7TeEN4dt9y"
      },
      "source": [
        "# **Dictionary**"
      ]
    },
    {
      "cell_type": "markdown",
      "metadata": {
        "id": "stk8MIZ2dy3q"
      },
      "source": [
        "* An array/list allows access through positional indices\n",
        "* A dictionay allows access through arbitary keys\n",
        "  - A collection of key-value pairs\n",
        "  - Random access -- access time is the same for all keys"
      ]
    },
    {
      "cell_type": "markdown",
      "metadata": {
        "id": "mB_Hf1Z7eO4J"
      },
      "source": [
        "## **Implementing a dictionary**"
      ]
    },
    {
      "cell_type": "markdown",
      "metadata": {
        "id": "qUr7I9jVhceR"
      },
      "source": [
        "* The underlying storage is an array\n",
        "  - Given an offset *i*, find *A[i]* in constant time\n",
        "* Keys have to be mapped to {0,1,...,n-1}\n",
        "  - Given an key *k*, convert it to an offset *i*\n",
        "\n",
        "* **Hash Function**\n",
        "  - *h : S->X* maps a set of values *S* to a small range of integers *X= {0,1,...,n-1}*\n",
        "  - Typically |X| << |S| , so there will be collisions, *h(s)= h(s'), s!=s'*\n",
        "  - A good hash function will minimize collisions\n",
        "  - Hash function maps *s* and *s'* to the same value even though *s* is not equal to *s'*\n",
        "  - SHA-256 is an industry standard hashing function whose range is 256 bits\n",
        "    - Use to hash large files -- avoid uploading duplicates to cloud storage"
      ]
    },
    {
      "cell_type": "markdown",
      "metadata": {
        "id": "OgCLgirBjw8h"
      },
      "source": [
        "# **Hash Table**"
      ]
    },
    {
      "cell_type": "markdown",
      "metadata": {
        "id": "aWN8DZ0uj5Jv"
      },
      "source": [
        "- An array *A* of size *n* combined with a hash function which maps keys to the range from *0* to *n-1*\n",
        "- *h* maps keys to {0,1,...,n-1}\n",
        "- Ideally, when we create an entry for key *k*, *A[h(k)]* will be unused\n",
        "  - But what if there's already a value at that location?\n",
        "- Dealing with collisions\n",
        "  - Open addressing (closed hashing)\n",
        "     - Probe a sequence of alternate slots in the same array\n",
        "  - Open hashing\n",
        "     - Each slot in the array points to a list of values\n",
        "     - Insert into the list for the given slot"
      ]
    }
  ]
}