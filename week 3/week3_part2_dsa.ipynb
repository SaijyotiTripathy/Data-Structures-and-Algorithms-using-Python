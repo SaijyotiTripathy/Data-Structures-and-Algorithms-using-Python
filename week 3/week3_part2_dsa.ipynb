{
  "nbformat": 4,
  "nbformat_minor": 0,
  "metadata": {
    "colab": {
      "name": "week3 part2 dsa.ipynb",
      "provenance": [],
      "collapsed_sections": []
    },
    "kernelspec": {
      "name": "python3",
      "display_name": "Python 3"
    },
    "language_info": {
      "name": "python"
    }
  },
  "cells": [
    {
      "cell_type": "markdown",
      "metadata": {
        "id": "i4ITRbFFgP18"
      },
      "source": [
        "# **Difference between list and array Implementation**"
      ]
    },
    {
      "cell_type": "code",
      "metadata": {
        "id": "TA3LBktrgKHp"
      },
      "source": [
        "import time\n",
        "\n",
        "class TimerError(Exception):\n",
        "  \"\"\"A custom exception used to report errors in use of Timer class\"\"\"\n",
        "\n",
        "class Timer:\n",
        "  def __init__(self):\n",
        "    self._start_time= None\n",
        "    self._elapsed_time= None\n",
        "  \n",
        "  def start(self):\n",
        "    \"\"\"Start a new timer\"\"\"\n",
        "    if self._start_time is not None:\n",
        "      raise TimerError(\"Timer is running. Use .stop()\")\n",
        "    self._start_time= time.perf_counter()\n",
        "  \n",
        "  def stop(self):\n",
        "    \"\"\"Save the elapsed time and re-initialize timer\"\"\"\n",
        "    if self._start_time is None:\n",
        "      raise TimerError(\"Timer is not running. Use start()\")\n",
        "    self._elapsed_time= time.perf_counter() - self._start_time\n",
        "    self._start_time= None\n",
        "\n",
        "  def elapsed(self):\n",
        "    \"\"\"Report elapsed time\"\"\"\n",
        "    if self._elapsed_time is None:\n",
        "      raise TimerError(\"Timer has not been run yet. Use start()\")\n",
        "    return self._elapsed_time\n",
        "\n",
        "  def __str__(self):\n",
        "    \"\"\"print() prints elapsed time\"\"\"\n",
        "    return str(self._elapsed_time)"
      ],
      "execution_count": 5,
      "outputs": []
    },
    {
      "cell_type": "markdown",
      "metadata": {
        "id": "7MwQkhDqgYLa"
      },
      "source": [
        "### **Appending in lists**"
      ]
    },
    {
      "cell_type": "code",
      "metadata": {
        "colab": {
          "base_uri": "https://localhost:8080/"
        },
        "id": "I0XBmsRagXBT",
        "outputId": "d73e6ca7-af18-4144-ca1b-18e297285b9a"
      },
      "source": [
        "t= Timer()\n",
        "t.start()\n",
        "l=[]\n",
        "for i in range(10000000):\n",
        "  l.append(i)\n",
        "t.stop()\n",
        "print(t)"
      ],
      "execution_count": 6,
      "outputs": [
        {
          "output_type": "stream",
          "name": "stdout",
          "text": [
            "1.5681358379999892\n"
          ]
        }
      ]
    },
    {
      "cell_type": "markdown",
      "metadata": {
        "id": "B7tTbsx1gx3d"
      },
      "source": [
        "### **Inserting in lists**"
      ]
    },
    {
      "cell_type": "code",
      "metadata": {
        "colab": {
          "base_uri": "https://localhost:8080/"
        },
        "id": "ZJ7iJwxsgil6",
        "outputId": "15a51e2b-e63e-47bb-f108-73df0f567bfa"
      },
      "source": [
        "t= Timer()\n",
        "t.start()\n",
        "l=[]\n",
        "for i in range(300000):\n",
        "  l.insert(0,i)\n",
        "t.stop()\n",
        "print(t)"
      ],
      "execution_count": 7,
      "outputs": [
        {
          "output_type": "stream",
          "name": "stdout",
          "text": [
            "23.253015200999982\n"
          ]
        }
      ]
    },
    {
      "cell_type": "markdown",
      "metadata": {
        "id": "QdYqfYljg4Ta"
      },
      "source": [
        "## **Searching in lists**"
      ]
    },
    {
      "cell_type": "markdown",
      "metadata": {
        "id": "74RXrC_qhUAV"
      },
      "source": [
        "### **Naive Search**"
      ]
    },
    {
      "cell_type": "code",
      "metadata": {
        "id": "9RJjiTbZg3LO"
      },
      "source": [
        "def naivesearch_list(v,L):\n",
        "  for x in L:\n",
        "    if v==x:\n",
        "      return True\n",
        "  return False"
      ],
      "execution_count": 8,
      "outputs": []
    },
    {
      "cell_type": "markdown",
      "metadata": {
        "id": "hJoTbR38hek_"
      },
      "source": [
        "### **Binary Search**"
      ]
    },
    {
      "cell_type": "code",
      "metadata": {
        "id": "orKhfzLPheBX"
      },
      "source": [
        "def binarysearch_list(v,L):\n",
        "  if L==[]:\n",
        "    return False\n",
        "  \n",
        "  m= len(L)//2\n",
        "\n",
        "  if v==L[m]:\n",
        "    return True\n",
        "  \n",
        "  if v<L[m]:\n",
        "    return binarysearch_list(v,L[:m])\n",
        "  else:\n",
        "    return binarysearch_list(v,L[m+1:])"
      ],
      "execution_count": 9,
      "outputs": []
    },
    {
      "cell_type": "markdown",
      "metadata": {
        "id": "PwNCfozuhxII"
      },
      "source": [
        "## **Searching in Arrays**"
      ]
    },
    {
      "cell_type": "markdown",
      "metadata": {
        "id": "bDI5uUAoh3IB"
      },
      "source": [
        "### **Naive Search**"
      ]
    },
    {
      "cell_type": "code",
      "metadata": {
        "id": "PYSFB26khte1"
      },
      "source": [
        "def naivesearch_array(v,A,l,r):\n",
        "  for i in range(l,r):\n",
        "    if v==A[i]:\n",
        "      return True\n",
        "  return False"
      ],
      "execution_count": 10,
      "outputs": []
    },
    {
      "cell_type": "markdown",
      "metadata": {
        "id": "VARTTdHOh-pf"
      },
      "source": [
        "### **Binary Search**"
      ]
    },
    {
      "cell_type": "code",
      "metadata": {
        "id": "aPRFtXdch83-"
      },
      "source": [
        "def binarysearch_array(v,A,l,r):\n",
        "  if r-l<=0:\n",
        "    return False\n",
        "  \n",
        "  m= (l+r)//2\n",
        "\n",
        "  if v==A[m]:\n",
        "    return True\n",
        "  \n",
        "  if v<A[m]:\n",
        "    return binarysearch_array(v,A,l,m)\n",
        "  else:\n",
        "    return binarysearch_array(v,A,m+1,r)"
      ],
      "execution_count": 11,
      "outputs": []
    },
    {
      "cell_type": "markdown",
      "metadata": {
        "id": "zMRSz2YviJoJ"
      },
      "source": [
        "## **Performance comparision for Searching**"
      ]
    },
    {
      "cell_type": "markdown",
      "metadata": {
        "id": "fxVVJO1AiVqT"
      },
      "source": [
        "### **Naive Search vs Binary Search in lists**"
      ]
    },
    {
      "cell_type": "code",
      "metadata": {
        "colab": {
          "base_uri": "https://localhost:8080/"
        },
        "id": "wJks1rcpiITS",
        "outputId": "59361ea4-ea35-434a-c740-00c9e0b5d7e7"
      },
      "source": [
        "l=list(range(0,100000,2))\n",
        "t= Timer()\n",
        "t.start()\n",
        "for i in range(3001,13000,2):\n",
        "  v= naivesearch_list(i,l)\n",
        "t.stop()\n",
        "print()\n",
        "print(\"Naive Search \",t)\n",
        "\n",
        "t.start()\n",
        "for i in range(3001,13000,2):\n",
        "  v= binarysearch_list(i,l)\n",
        "t.stop()\n",
        "print()\n",
        "print(\"Binary Search \",t)"
      ],
      "execution_count": 12,
      "outputs": [
        {
          "output_type": "stream",
          "name": "stdout",
          "text": [
            "\n",
            "Naive Search  10.23731575499994\n",
            "\n",
            "Binary Search  0.8399544630000264\n"
          ]
        }
      ]
    },
    {
      "cell_type": "markdown",
      "metadata": {
        "id": "a_SDT8kwibnS"
      },
      "source": [
        "### **Naive Search vs Binary Search in arrays**"
      ]
    },
    {
      "cell_type": "code",
      "metadata": {
        "colab": {
          "base_uri": "https://localhost:8080/"
        },
        "id": "XJ99szweiVBD",
        "outputId": "d4f4211b-98aa-46b6-96dc-421a2ddfd477"
      },
      "source": [
        "import numpy as np\n",
        "arr= np.arange(0,100000,2)\n",
        "t= Timer()\n",
        "t.start()\n",
        "for i in range(3001,5000,2):\n",
        "  v= naivesearch_array(i,arr,0,np.prod(arr.shape))\n",
        "t.stop()\n",
        "print()\n",
        "print(\"Naive Search \",t)\n",
        "\n",
        "t.start()\n",
        "for i in range(3001,13000,2):\n",
        "  v= binarysearch_array(i,arr,0,np.prod(arr.shape))\n",
        "t.stop()\n",
        "print()\n",
        "print(\"Binary Search \",t)"
      ],
      "execution_count": 13,
      "outputs": [
        {
          "output_type": "stream",
          "name": "stdout",
          "text": [
            "\n",
            "Naive Search  18.539088086000106\n",
            "\n",
            "Binary Search  0.20212464099995486\n"
          ]
        }
      ]
    },
    {
      "cell_type": "markdown",
      "metadata": {
        "id": "2RVEnof0inmH"
      },
      "source": [
        "## **Sorting in Lists**"
      ]
    },
    {
      "cell_type": "markdown",
      "metadata": {
        "id": "6a2iFy-gitl7"
      },
      "source": [
        "### **Selection sort**"
      ]
    },
    {
      "cell_type": "code",
      "metadata": {
        "id": "f5ROQeTzikpJ"
      },
      "source": [
        "def selectionsort_list(L):\n",
        "  n=len(L)\n",
        "  if n<1:\n",
        "    return L\n",
        "  \n",
        "  for i in range(n):\n",
        "    # Assume L[:i] is sorted\n",
        "    mpos=i\n",
        "    # mpos is position of minimum in L[i:]\n",
        "    for j in range(i+1,n):\n",
        "      if L[j]<L[mpos]:\n",
        "        mpos=j\n",
        "    # L[mpos] is the smallest value in L[i:]\n",
        "    L[i],L[mpos]= L[mpos],L[i]\n",
        "    # Now L[:i+1] is sorted\n",
        "  return L"
      ],
      "execution_count": 14,
      "outputs": []
    },
    {
      "cell_type": "markdown",
      "metadata": {
        "id": "nH8Oi9vIi1bV"
      },
      "source": [
        "### **Insertion sort (iterative)**"
      ]
    },
    {
      "cell_type": "code",
      "metadata": {
        "id": "-EpYJXRzizLi"
      },
      "source": [
        "def insertionsort_list(l):\n",
        "  n=len(l)\n",
        "  if n<1:\n",
        "    return l\n",
        "  \n",
        "  for i in range(n):\n",
        "    # assume l[:i] is sorted\n",
        "    # move l[i] to correct position in l\n",
        "    j=i\n",
        "    while (j>0 and l[j]<l[j-1]):\n",
        "      l[j],l[j-1]= l[j-1],l[j]\n",
        "      j-=1\n",
        "    #now l[:i+1] is sorted\n",
        "  return l"
      ],
      "execution_count": 15,
      "outputs": []
    },
    {
      "cell_type": "markdown",
      "metadata": {
        "id": "p_PON1h-i-SZ"
      },
      "source": [
        "### **Merge sort**"
      ]
    },
    {
      "cell_type": "code",
      "metadata": {
        "id": "ocIc5T4yi8VX"
      },
      "source": [
        "def merge_list(a,b):\n",
        "  m,n= len(a), len(b)\n",
        "  c=[]\n",
        "  i,j,k= 0,0,0\n",
        "\n",
        "  while k<m+n:\n",
        "    if i==m:\n",
        "      c.extend(b[j:])\n",
        "      k += n-j\n",
        "\n",
        "    elif j==n:\n",
        "      c.extend(a[i:])\n",
        "      k+= n-i\n",
        "\n",
        "    elif a[i]<b[j]:\n",
        "      c.append(a[i])\n",
        "      i,k= i+1, k+1\n",
        "    \n",
        "    else:\n",
        "      c.append(b[j])\n",
        "      j,k= j+1, k+1\n",
        "  return c\n",
        "\n",
        "def mergesort_list(a):\n",
        "  n=len(a)\n",
        "  if n<=1:\n",
        "    return a\n",
        "\n",
        "  l= mergesort_list(a[:n//2])\n",
        "  r= mergesort_list(a[n//2:])\n",
        "\n",
        "  v= merge_list(l,r)\n",
        "  return v"
      ],
      "execution_count": 16,
      "outputs": []
    },
    {
      "cell_type": "markdown",
      "metadata": {
        "id": "igLXzuD8jGc8"
      },
      "source": [
        "## **Sorting in Arrays**"
      ]
    },
    {
      "cell_type": "markdown",
      "metadata": {
        "id": "2f99EsktjMy7"
      },
      "source": [
        "### **Selection sort**"
      ]
    },
    {
      "cell_type": "code",
      "metadata": {
        "id": "ZOJ81-tQjCza"
      },
      "source": [
        "def selectionsort_array(A):\n",
        "  n=np.prod(A.shape)\n",
        "  if n<1:\n",
        "    return A\n",
        "  \n",
        "  for i in range(n):\n",
        "    # Assume A[:i] is sorted\n",
        "    mpos=i\n",
        "    # mpos is position of minimum in A[i:]\n",
        "    for j in range(i+1,n):\n",
        "      if A[j]<A[mpos]:\n",
        "        mpos=j\n",
        "    # A[mpos] is the smallest value in A[i:]\n",
        "    A[i],A[mpos]= A[mpos],A[i]\n",
        "    # Now A[:i+1] is sorted\n",
        "  return A"
      ],
      "execution_count": 17,
      "outputs": []
    },
    {
      "cell_type": "markdown",
      "metadata": {
        "id": "VoyC-j5LjSlR"
      },
      "source": [
        "### **Insertion sort (iterative)**"
      ]
    },
    {
      "cell_type": "code",
      "metadata": {
        "id": "fu6vdcT-jQrS"
      },
      "source": [
        "def insertionsort_array(A):\n",
        "  n=len(A)\n",
        "  if n<1:\n",
        "    return A\n",
        "  \n",
        "  for i in range(n):\n",
        "    # Assume A[:i] is sorted\n",
        "    # Move A[i] to correct position in A[:i]\n",
        "    j=i\n",
        "    while (j>0 and A[j]<A[j-1]):\n",
        "      A[j],A[j-1]= A[j-1],A[j]\n",
        "      j-=1\n",
        "    #now A[:i+1] is sorted\n",
        "  return l"
      ],
      "execution_count": 18,
      "outputs": []
    },
    {
      "cell_type": "markdown",
      "metadata": {
        "id": "6NA-hd2qjZc6"
      },
      "source": [
        "### **Merge sort**"
      ]
    },
    {
      "cell_type": "code",
      "metadata": {
        "id": "PLSftbM5jX4e"
      },
      "source": [
        "def merge_array(a,b):\n",
        "  m,n= np.prod(a.shape), np.prod(b.shape)\n",
        "  c= np.zeros(m+n,dtype=int)\n",
        "  i,j,k= 0,0,0\n",
        "\n",
        "  while k<m+n:\n",
        "    if i==m:\n",
        "      c[k]= b[j]\n",
        "      j,k= j+1,k+1\n",
        "\n",
        "    elif j==n:\n",
        "      c[k]= a[i]\n",
        "      i,k= i+1,k+1\n",
        "\n",
        "    elif a[i]<b[j]:\n",
        "      c[k]= a[i]\n",
        "      i,k= i+1, k+1\n",
        "    \n",
        "    else:\n",
        "      c[k]= b[j]\n",
        "      j,k= j+1, k+1\n",
        "  return c\n",
        "\n",
        "def mergesort_array(a,l,r):\n",
        "  if r-l<=1:\n",
        "    b= np.array(a[l:r])\n",
        "    return b\n",
        "\n",
        "  mid= (l+r)//2\n",
        "  l= mergesort_array(a,l,mid)\n",
        "  r= mergesort_array(a,mid,r)\n",
        "\n",
        "  v= merge_array(l,r)\n",
        "  return v"
      ],
      "execution_count": 19,
      "outputs": []
    },
    {
      "cell_type": "markdown",
      "metadata": {
        "id": "flMRMVZWju8Q"
      },
      "source": [
        "## **Performance comparision for Sorting**"
      ]
    },
    {
      "cell_type": "markdown",
      "metadata": {
        "id": "E5BUNMUFkVRI"
      },
      "source": [
        "### **Selection sort performance on list**"
      ]
    },
    {
      "cell_type": "code",
      "metadata": {
        "colab": {
          "base_uri": "https://localhost:8080/"
        },
        "id": "_KLZs5nTjef7",
        "outputId": "7b62ce33-b5f0-4f64-a4df-184d3ec762a9"
      },
      "source": [
        "import random\n",
        "random.seed(2021)\n",
        "inputlists= {}\n",
        "inputlists[\"random\"]= [random.randrange(100000) for i in range(10000)]\n",
        "inputlists[\"ascending\"]= [i for i in range(10000)]\n",
        "inputlists[\"descending\"]= [i for i in range(9999,-1,-1)]\n",
        "t= Timer()\n",
        "for k in inputlists.keys():\n",
        "  tmplist= inputlists[k][:]\n",
        "  t.start()\n",
        "  selectionsort_list(tmplist)\n",
        "  t.stop()\n",
        "  print(k,t)"
      ],
      "execution_count": 20,
      "outputs": [
        {
          "output_type": "stream",
          "name": "stdout",
          "text": [
            "random 4.782663254999989\n",
            "ascending 4.749073528000054\n",
            "descending 5.05236567399993\n"
          ]
        }
      ]
    },
    {
      "cell_type": "markdown",
      "metadata": {
        "id": "5FJRS6cWkd_O"
      },
      "source": [
        "### **Selection sort performance on array**"
      ]
    },
    {
      "cell_type": "code",
      "metadata": {
        "colab": {
          "base_uri": "https://localhost:8080/"
        },
        "id": "sNRhL1zekcEj",
        "outputId": "4be10af0-9e01-4b75-eac0-2ea5bf694585"
      },
      "source": [
        "import numpy as np\n",
        "import random\n",
        "random.seed(2021)\n",
        "inputarrays= {}\n",
        "inputarrays[\"random\"]= np.arange(10000)\n",
        "for i in range(10000):\n",
        "  inputarrays[\"random\"][i]= random.randrange(100000)\n",
        "inputarrays[\"ascending\"]= np.arange(10000)\n",
        "inputarrays[\"descending\"]= np.arange(9999,-1,-1)\n",
        "t= Timer()\n",
        "for k in inputarrays.keys():\n",
        "  tmparray= inputarrays[k][:]\n",
        "  t.start()\n",
        "  selectionsort_array(tmparray)\n",
        "  t.stop()\n",
        "  print(k,t)"
      ],
      "execution_count": 21,
      "outputs": [
        {
          "output_type": "stream",
          "name": "stdout",
          "text": [
            "random 16.652573634999953\n",
            "ascending 17.009568330000093\n",
            "descending 16.961080492000065\n"
          ]
        }
      ]
    },
    {
      "cell_type": "markdown",
      "metadata": {
        "id": "1pt84SJZkl83"
      },
      "source": [
        "### **Insertion sort performance on list**"
      ]
    },
    {
      "cell_type": "code",
      "metadata": {
        "colab": {
          "base_uri": "https://localhost:8080/"
        },
        "id": "_5Td33SDkkCM",
        "outputId": "3cde7fc8-1e1e-4463-d27f-d9620918f864"
      },
      "source": [
        "import random\n",
        "random.seed(2021)\n",
        "inputlists= {}\n",
        "inputlists[\"random\"]= [random.randrange(100000) for i in range(10000)]\n",
        "inputlists[\"ascending\"]= [i for i in range(10000)]\n",
        "inputlists[\"descending\"]= [i for i in range(9999,-1,-1)]\n",
        "t= Timer()\n",
        "for k in inputlists.keys():\n",
        "  tmplist= inputlists[k][:]\n",
        "  t.start()\n",
        "  insertionsort_list(tmplist)\n",
        "  t.stop()\n",
        "  print(k,t)"
      ],
      "execution_count": 22,
      "outputs": [
        {
          "output_type": "stream",
          "name": "stdout",
          "text": [
            "random 9.557975176000127\n",
            "ascending 0.0017378410000219446\n",
            "descending 18.899344565000092\n"
          ]
        }
      ]
    },
    {
      "cell_type": "markdown",
      "metadata": {
        "id": "s6-yOXS-kxNK"
      },
      "source": [
        "### **Insertion sort performance on array**"
      ]
    },
    {
      "cell_type": "code",
      "metadata": {
        "colab": {
          "base_uri": "https://localhost:8080/"
        },
        "id": "N5l115Biku1o",
        "outputId": "d71498e9-3bf0-4900-f013-080b559ea6f0"
      },
      "source": [
        "import numpy as np\n",
        "import random\n",
        "random.seed(2021)\n",
        "inputarrays= {}\n",
        "inputarrays[\"random\"]= np.arange(10000)\n",
        "for i in range(10000):\n",
        "  inputarrays[\"random\"][i]= random.randrange(100000)\n",
        "inputarrays[\"ascending\"]= np.arange(10000)\n",
        "inputarrays[\"descending\"]= np.arange(9999,-1,-1)\n",
        "t= Timer()\n",
        "for k in inputarrays.keys():\n",
        "  tmparray= inputarrays[k][:]\n",
        "  t.start()\n",
        "  insertionsort_array(tmparray)\n",
        "  t.stop()\n",
        "  print(k,t)"
      ],
      "execution_count": 23,
      "outputs": [
        {
          "output_type": "stream",
          "name": "stdout",
          "text": [
            "random 24.15979663500002\n",
            "ascending 0.004045481000048312\n",
            "descending 48.39522736899994\n"
          ]
        }
      ]
    },
    {
      "cell_type": "markdown",
      "metadata": {
        "id": "7ikNa26uk3-Z"
      },
      "source": [
        "### **Merge sort performance on list**"
      ]
    },
    {
      "cell_type": "code",
      "metadata": {
        "colab": {
          "base_uri": "https://localhost:8080/"
        },
        "id": "D0g8bivik0od",
        "outputId": "77d5e887-cd82-49f3-b854-c45fc9662e98"
      },
      "source": [
        "import random\n",
        "random.seed(2021)\n",
        "inputlists= {}\n",
        "inputlists[\"random\"]= [random.randrange(100000000) for i in range(1000000)]\n",
        "inputlists[\"ascending\"]= [i for i in range(1000000)]\n",
        "inputlists[\"descending\"]= [i for i in range(999999,-1,-1)]\n",
        "t= Timer()\n",
        "for k in inputlists.keys():\n",
        "  tmplist= inputlists[k][:]\n",
        "  t.start()\n",
        "  mergesort_list(tmplist)\n",
        "  t.stop()\n",
        "  print(k,t)"
      ],
      "execution_count": 24,
      "outputs": [
        {
          "output_type": "stream",
          "name": "stdout",
          "text": [
            "random 9.68246903599993\n",
            "ascending 5.2999537440000495\n",
            "descending 5.307761596000091\n"
          ]
        }
      ]
    },
    {
      "cell_type": "markdown",
      "metadata": {
        "id": "Cs0Gg3qslDNz"
      },
      "source": [
        "### **Merge sort performance on array**"
      ]
    },
    {
      "cell_type": "code",
      "metadata": {
        "colab": {
          "base_uri": "https://localhost:8080/"
        },
        "id": "iKUQPMe1lCkn",
        "outputId": "feb48ecc-91f4-42d6-aa66-99191cfe71b8"
      },
      "source": [
        "import numpy as np\n",
        "import random\n",
        "random.seed(2021)\n",
        "inputarrays= {}\n",
        "inputarrays[\"random\"]= np.arange(1000000)\n",
        "for i in range(1000000):\n",
        "  inputarrays[\"random\"][i]= random.randrange(100000000)\n",
        "inputarrays[\"ascending\"]= np.arange(1000000)\n",
        "inputarrays[\"descending\"]= np.arange(999999,-1,-1)\n",
        "t= Timer()\n",
        "for k in inputarrays.keys():\n",
        "  tmparray= inputarrays[k][:]\n",
        "  t.start()\n",
        "  mergesort_array(tmparray,0,1000000)\n",
        "  t.stop()\n",
        "  print(k,t)"
      ],
      "execution_count": 25,
      "outputs": [
        {
          "output_type": "stream",
          "name": "stdout",
          "text": [
            "random 51.549751602000015\n",
            "ascending 46.59897067199995\n",
            "descending 48.77267392199997\n"
          ]
        }
      ]
    },
    {
      "cell_type": "markdown",
      "metadata": {
        "id": "wmOhtwCilJQp"
      },
      "source": [
        "Theoretically arrays should be better than lists.  \n",
        "* Python lists seem to be better than arrays when the only thing that matters is indexing.\n",
        "* When there's no use of complex operations then using lists are better.\n",
        "* When using 2D representation like in graphs and trees and do some operations on it then numpy array is more preferable."
      ]
    },
    {
      "cell_type": "code",
      "metadata": {
        "id": "o3NfIxZVlIXZ"
      },
      "source": [
        ""
      ],
      "execution_count": null,
      "outputs": []
    }
  ]
}