{
  "nbformat": 4,
  "nbformat_minor": 0,
  "metadata": {
    "colab": {
      "name": "week1 dsa",
      "provenance": [],
      "collapsed_sections": [
        "_034ZeMd5n0Z"
      ]
    },
    "kernelspec": {
      "name": "python3",
      "display_name": "Python 3"
    },
    "language_info": {
      "name": "python"
    }
  },
  "cells": [
    {
      "cell_type": "markdown",
      "metadata": {
        "id": "6wOlSHAalMO0"
      },
      "source": [
        "# Finding GCD"
      ]
    },
    {
      "cell_type": "code",
      "metadata": {
        "id": "yemfL-bKfOwS"
      },
      "source": [
        "# takes time proportional to min(m,n)\n",
        "\n",
        "def gcd(m,n):\n",
        "  g=1\n",
        "  for i in range(1,min(m,n)+1):\n",
        "    if m%i==0 and n%i==0:\n",
        "      g=i\n",
        "  return g"
      ],
      "execution_count": 1,
      "outputs": []
    },
    {
      "cell_type": "code",
      "metadata": {
        "id": "i0PZ2RL4vYBG"
      },
      "source": [
        "# takes time proportional to max(m,n)\n",
        "\n",
        "def gcd(m,n):\n",
        "  a, b = max(m,n), min(m,n)\n",
        "  if a%b==0:\n",
        "    return b\n",
        "  else:\n",
        "    return gcd(b,a-b)"
      ],
      "execution_count": 2,
      "outputs": []
    },
    {
      "cell_type": "code",
      "metadata": {
        "colab": {
          "base_uri": "https://localhost:8080/"
        },
        "id": "paXz9bTNhBuh",
        "outputId": "01116c3f-ff48-4f26-bcb3-d48896de5b50"
      },
      "source": [
        "print(gcd(2676756,14666552))"
      ],
      "execution_count": 3,
      "outputs": [
        {
          "output_type": "stream",
          "name": "stdout",
          "text": [
            "4\n"
          ]
        }
      ]
    },
    {
      "cell_type": "markdown",
      "metadata": {
        "id": "6PEgoUuWx8YJ"
      },
      "source": [
        "**Euclid's Algorithm**\n",
        "- If n divides m, gcd(m,n) = n\n",
        "- Otherwise, compute gcd(n, m mod n)"
      ]
    },
    {
      "cell_type": "code",
      "metadata": {
        "id": "FRZhETZLx7qs"
      },
      "source": [
        "# takes time proportional to number of digits in max(m,n)\n",
        "\n",
        "def gcd(m,n):\n",
        "  a, b = max(m,n), min(m,n)\n",
        "  if a%b==0:\n",
        "    return b\n",
        "  else:\n",
        "    return gcd(b,a%b)"
      ],
      "execution_count": 4,
      "outputs": []
    },
    {
      "cell_type": "code",
      "metadata": {
        "colab": {
          "base_uri": "https://localhost:8080/"
        },
        "id": "CSBAM6eszHeT",
        "outputId": "587fcccd-c1c5-4d2e-f950-72cc1f6617a5"
      },
      "source": [
        "print(gcd(36,15))"
      ],
      "execution_count": 5,
      "outputs": [
        {
          "output_type": "stream",
          "name": "stdout",
          "text": [
            "3\n"
          ]
        }
      ]
    },
    {
      "cell_type": "markdown",
      "metadata": {
        "id": "WQq1_zFSlPJs"
      },
      "source": [
        "# Finding factors"
      ]
    },
    {
      "cell_type": "code",
      "metadata": {
        "id": "4Axv1H_6hGY8"
      },
      "source": [
        "def factors(n):\n",
        "  l=[]\n",
        "  for i in range(1,n+1):\n",
        "    if n%i==0:\n",
        "      l.append(i)\n",
        "  return l"
      ],
      "execution_count": 6,
      "outputs": []
    },
    {
      "cell_type": "markdown",
      "metadata": {
        "id": "ZqjoWbe5lR6H"
      },
      "source": [
        "# Finding primes"
      ]
    },
    {
      "cell_type": "code",
      "metadata": {
        "id": "TQ_C1GvjkxlI"
      },
      "source": [
        "def prime(n):\n",
        "  return factors(n)==[1,n]"
      ],
      "execution_count": 7,
      "outputs": []
    },
    {
      "cell_type": "code",
      "metadata": {
        "id": "2Y0gSIjWrVym"
      },
      "source": [
        "def prime(n):\n",
        "  result=True\n",
        "  for i in range(2,n):\n",
        "    if n%i==0:\n",
        "      result=False\n",
        "  return result"
      ],
      "execution_count": 8,
      "outputs": []
    },
    {
      "cell_type": "code",
      "metadata": {
        "id": "VyOwaGM_ro_E"
      },
      "source": [
        "def prime(n):\n",
        "  result=True\n",
        "  for i in range(2,n):\n",
        "    if n%i==0:\n",
        "      result=False\n",
        "      break\n",
        "  return result"
      ],
      "execution_count": 9,
      "outputs": []
    },
    {
      "cell_type": "code",
      "metadata": {
        "id": "YMPWJYElsMoV"
      },
      "source": [
        "def prime(n):\n",
        "  result,i= True,2\n",
        "  while result and (i<n):\n",
        "    if n%i==0:\n",
        "      result= False\n",
        "    i+=1\n",
        "  return result"
      ],
      "execution_count": 10,
      "outputs": []
    },
    {
      "cell_type": "code",
      "metadata": {
        "id": "7IET-Q7BsrsC"
      },
      "source": [
        "import math\n",
        "def prime(n):\n",
        "  result,i= True,2\n",
        "  while result and (i<math.sqrt(n)):\n",
        "    if n%i==0:\n",
        "      result= False\n",
        "    i+=1\n",
        "  return result"
      ],
      "execution_count": 11,
      "outputs": []
    },
    {
      "cell_type": "markdown",
      "metadata": {
        "id": "Ex0Q5S5WorDr"
      },
      "source": [
        "# Finding primes upto m"
      ]
    },
    {
      "cell_type": "code",
      "metadata": {
        "id": "LHdLE780k7hR"
      },
      "source": [
        "def primesupto(m):\n",
        "  l=[]\n",
        "  for i in range(1,m+1):\n",
        "    if prime(i):\n",
        "      l.append(i)\n",
        "  return l"
      ],
      "execution_count": 12,
      "outputs": []
    },
    {
      "cell_type": "code",
      "metadata": {
        "colab": {
          "base_uri": "https://localhost:8080/"
        },
        "id": "kHOV4Gjlod8a",
        "outputId": "6c4d5d74-7a6e-45a9-e9f0-ec569f0331fd"
      },
      "source": [
        "print(primesupto(45))"
      ],
      "execution_count": 13,
      "outputs": [
        {
          "output_type": "stream",
          "name": "stdout",
          "text": [
            "[1, 2, 3, 4, 5, 7, 9, 11, 13, 17, 19, 23, 25, 29, 31, 37, 41, 43]\n"
          ]
        }
      ]
    },
    {
      "cell_type": "markdown",
      "metadata": {
        "id": "ms-VtJF4otsL"
      },
      "source": [
        "# Finding first m primes"
      ]
    },
    {
      "cell_type": "code",
      "metadata": {
        "id": "XXq2N15oojSc"
      },
      "source": [
        "def firstprimes(m):\n",
        "  count,i,l= 0,1,[]\n",
        "  while(count<m):\n",
        "    if prime(i):\n",
        "      count+=1\n",
        "      l.append(i)\n",
        "    i+=1\n",
        "  return l"
      ],
      "execution_count": 14,
      "outputs": []
    },
    {
      "cell_type": "code",
      "metadata": {
        "colab": {
          "base_uri": "https://localhost:8080/"
        },
        "id": "JhOYv8SDpXsH",
        "outputId": "ff2dfdbd-d539-41a3-d68d-c224f8730a75"
      },
      "source": [
        "print(firstprimes(15))"
      ],
      "execution_count": 15,
      "outputs": [
        {
          "output_type": "stream",
          "name": "stdout",
          "text": [
            "[1, 2, 3, 4, 5, 7, 9, 11, 13, 17, 19, 23, 25, 29, 31]\n"
          ]
        }
      ]
    },
    {
      "cell_type": "markdown",
      "metadata": {
        "id": "RO4pnu96tyHL"
      },
      "source": [
        "**Twin Primes : p, p+2**\n"
      ]
    },
    {
      "cell_type": "markdown",
      "metadata": {
        "id": "VPCpDW4uuVNf"
      },
      "source": [
        "# Computing differences between primes"
      ]
    },
    {
      "cell_type": "code",
      "metadata": {
        "id": "rH6ihrjEpb-S"
      },
      "source": [
        "def primediff(n):\n",
        "  lastprime=2\n",
        "  pd={}\n",
        "  for i in range(3,n):\n",
        "    if prime(i):\n",
        "      d= i-lastprime\n",
        "      lastprime=i\n",
        "      if d in pd.keys():\n",
        "        pd[d]=pd[d]+1\n",
        "      else:\n",
        "        pd[d]=1\n",
        "  return pd"
      ],
      "execution_count": 16,
      "outputs": []
    },
    {
      "cell_type": "code",
      "metadata": {
        "colab": {
          "base_uri": "https://localhost:8080/"
        },
        "id": "fUmrualtu01R",
        "outputId": "25249d1c-c5b6-41bf-dfbe-e001e9fe026b"
      },
      "source": [
        "primediff(17)"
      ],
      "execution_count": 17,
      "outputs": [
        {
          "output_type": "execute_result",
          "data": {
            "text/plain": [
              "{1: 3, 2: 4}"
            ]
          },
          "metadata": {},
          "execution_count": 17
        }
      ]
    },
    {
      "cell_type": "markdown",
      "metadata": {
        "id": "6nIEv-oc2Hsk"
      },
      "source": [
        "# Exception Handling"
      ]
    },
    {
      "cell_type": "markdown",
      "metadata": {
        "id": "JOK_bWmj5kCJ"
      },
      "source": [
        "## **Terminology**"
      ]
    },
    {
      "cell_type": "markdown",
      "metadata": {
        "id": "AOHFdidX4CxN"
      },
      "source": [
        "**try:**\n",
        "<br>\n",
        "**........**   (code where error may occur) \n",
        "<br>\n",
        "\n",
        "**except IndexError:**\n",
        "<br>\n",
        "**.........**     (handle IndexError) \n",
        "<br>\n",
        "\n",
        "**except (NameError, KeyError):**\n",
        "<br>\n",
        "**.........**   (handle multiple exception types)\n",
        "<br>\n",
        "\n",
        "**except:**\n",
        "<br>\n",
        "**..........**  (handle all other exceptions)\n",
        "<br>\n",
        "\n",
        "**else:**\n",
        "<br>\n",
        "**..........**   (execute if try runs without errors)\n"
      ]
    },
    {
      "cell_type": "markdown",
      "metadata": {
        "id": "_034ZeMd5n0Z"
      },
      "source": [
        "### **Using exceptions positively**"
      ]
    },
    {
      "cell_type": "code",
      "metadata": {
        "id": "SEUwL3GTu3pg"
      },
      "source": [
        "scores= {\"Ansh\": [3,22], \"Sam\": [300,55]}"
      ],
      "execution_count": 18,
      "outputs": []
    },
    {
      "cell_type": "code",
      "metadata": {
        "id": "GOTw2WzP6LLu"
      },
      "source": [
        "b=\"Mani\"\n",
        "s=[77,54]"
      ],
      "execution_count": 19,
      "outputs": []
    },
    {
      "cell_type": "code",
      "metadata": {
        "id": "QDY2PsZt59p3"
      },
      "source": [
        "# Traditional approach\n",
        "\n",
        "if b in scores.keys():\n",
        "  scores[b].append(s)\n",
        "else:\n",
        "  scores[b]=s"
      ],
      "execution_count": 20,
      "outputs": []
    },
    {
      "cell_type": "code",
      "metadata": {
        "colab": {
          "base_uri": "https://localhost:8080/"
        },
        "id": "rypZYzGK6bVu",
        "outputId": "afe770bc-336d-4f38-fae1-da171d1d1872"
      },
      "source": [
        "scores"
      ],
      "execution_count": 21,
      "outputs": [
        {
          "output_type": "execute_result",
          "data": {
            "text/plain": [
              "{'Ansh': [3, 22], 'Mani': [77, 54], 'Sam': [300, 55]}"
            ]
          },
          "metadata": {},
          "execution_count": 21
        }
      ]
    },
    {
      "cell_type": "code",
      "metadata": {
        "id": "wYnSW6RS6c1_"
      },
      "source": [
        "# Using exceptions\n",
        "\n",
        "try:\n",
        "  scores[b].append(s)\n",
        "except KeyError:\n",
        "  scores[b]=s"
      ],
      "execution_count": 22,
      "outputs": []
    },
    {
      "cell_type": "code",
      "metadata": {
        "colab": {
          "base_uri": "https://localhost:8080/"
        },
        "id": "kQEG6heB61GU",
        "outputId": "df23f552-c3c8-4884-d05a-db1bbdf33f37"
      },
      "source": [
        "scores"
      ],
      "execution_count": 23,
      "outputs": [
        {
          "output_type": "execute_result",
          "data": {
            "text/plain": [
              "{'Ansh': [3, 22], 'Mani': [77, 54, [...]], 'Sam': [300, 55]}"
            ]
          },
          "metadata": {},
          "execution_count": 23
        }
      ]
    },
    {
      "cell_type": "markdown",
      "metadata": {
        "id": "wt5JRcWb7Edp"
      },
      "source": [
        "# Classes and Objects"
      ]
    },
    {
      "cell_type": "markdown",
      "metadata": {
        "id": "LB7hiJKv-1mj"
      },
      "source": [
        "## **2D points**"
      ]
    },
    {
      "cell_type": "markdown",
      "metadata": {
        "id": "1wFYjsUY_-61"
      },
      "source": [
        "- By default a point is (0,0)\n",
        "- Translation: shift the point \n",
        "> (x,y) -> (x + deltax, y + deltay)\n",
        "- Distance from the origin \n",
        "> d= sqrt(x^2+y^2)\n",
        "\n",
        "\n",
        "\n",
        "\n",
        "\n",
        "\n",
        "\n",
        "\n",
        "\n"
      ]
    },
    {
      "cell_type": "code",
      "metadata": {
        "id": "rOJ7fimD63bS"
      },
      "source": [
        "class Point:\n",
        "  def __init__(self,a=0,b=0):\n",
        "    self.x=a\n",
        "    self.y=b\n",
        "\n",
        "  def translate(self,deltax,deltay):\n",
        "    self.x += deltax\n",
        "    self.y += deltay\n",
        "    return (self.x, self.y)\n",
        "\n",
        "  def odistance(self):\n",
        "    import math\n",
        "    d= math.sqrt(self.x**2 + self.y**2)\n",
        "    return d"
      ],
      "execution_count": 24,
      "outputs": []
    },
    {
      "cell_type": "code",
      "metadata": {
        "id": "1AgfrujT_fhY"
      },
      "source": [
        "p=Point(5,7)\n",
        "q=Point(3,5)"
      ],
      "execution_count": 25,
      "outputs": []
    },
    {
      "cell_type": "code",
      "metadata": {
        "colab": {
          "base_uri": "https://localhost:8080/"
        },
        "id": "aadINycl_nM_",
        "outputId": "251606f5-227e-4180-fd77-4fa32737ef12"
      },
      "source": [
        "p.odistance(), q.odistance()"
      ],
      "execution_count": 26,
      "outputs": [
        {
          "output_type": "execute_result",
          "data": {
            "text/plain": [
              "(8.602325267042627, 5.830951894845301)"
            ]
          },
          "metadata": {},
          "execution_count": 26
        }
      ]
    },
    {
      "cell_type": "code",
      "metadata": {
        "id": "DvqwjuXrKYwh"
      },
      "source": [
        "class Point:\n",
        "  def __init__(self,a=0,b=0):\n",
        "    self.x=a\n",
        "    self.y=b\n",
        "\n",
        "  def translate(self,deltax,deltay):\n",
        "    self.x += deltax\n",
        "    self.y += deltay\n",
        "    return (self.x, self.y)\n",
        "\n",
        "  def odistance(self):\n",
        "    import math\n",
        "    d= math.sqrt(self.x**2 + self.y**2)\n",
        "    return d\n",
        "    \n",
        "  def __str__(self):\n",
        "    return '('+str(self.x)+','+str(self.y)+')'\n",
        "\n",
        "  def __add__(self,p):\n",
        "    return Point(self.x + p.x, self.y + p.y)"
      ],
      "execution_count": 27,
      "outputs": []
    },
    {
      "cell_type": "code",
      "metadata": {
        "id": "Xf3OhWhVKgJg"
      },
      "source": [
        "p=Point(5,7)\n",
        "q=Point(3,5)"
      ],
      "execution_count": 28,
      "outputs": []
    },
    {
      "cell_type": "code",
      "metadata": {
        "colab": {
          "base_uri": "https://localhost:8080/"
        },
        "id": "vfHKlh76KiWI",
        "outputId": "e98e9fd5-1825-497e-bd3f-93750f545c25"
      },
      "source": [
        "print(p+q)"
      ],
      "execution_count": 29,
      "outputs": [
        {
          "output_type": "stream",
          "name": "stdout",
          "text": [
            "(8,12)\n"
          ]
        }
      ]
    },
    {
      "cell_type": "markdown",
      "metadata": {
        "id": "JvWY2pWABIMy"
      },
      "source": [
        "### **Polar coordinates**"
      ]
    },
    {
      "cell_type": "markdown",
      "metadata": {
        "id": "WnUquEncDGYz"
      },
      "source": [
        "- **(r, theta)** instead of **(x,y)**\n",
        "  - **r = sqrt(x^2+y^2)**\n",
        "  - **theta = tan inverse (y/x)**\n",
        "- Distance from origin = **r**\n",
        "- Translation\n",
        "  - convert **(r, theta)** to **(x,y)**\n",
        "  - **x= r(cos theta)** , **y= r(sin theta)**\n",
        "  - recompute **r, theta** from **(x+deltax, y+deltay)**"
      ]
    },
    {
      "cell_type": "code",
      "metadata": {
        "id": "O4RNfatX_yk3"
      },
      "source": [
        "import math\n",
        "class Point:\n",
        "  def __init__(self,a=0,b=0):\n",
        "    self.r= math.sqrt(a^2+b^2)\n",
        "    if a==0:\n",
        "      self.theta= math.pi/2\n",
        "    else:\n",
        "      self.theta= math.atan(b/a)\n",
        "\n",
        "  def odistance(self):\n",
        "    return self.r\n",
        "\n",
        "  def translate(self,deltax,deltay):\n",
        "    x= self.r*math.cos(self.theta)\n",
        "    y= self.r*math.sin(self.theta)\n",
        "    x+=deltax\n",
        "    y+=deltay\n",
        "    self.r= math.sqrt(x^2+y^2)\n",
        "\n",
        "    if x==0:\n",
        "      self.theta= math.pi/2\n",
        "    else:\n",
        "      self.theta= math.atan(y/x)"
      ],
      "execution_count": 30,
      "outputs": []
    },
    {
      "cell_type": "code",
      "metadata": {
        "id": "NqQZdReuCMzi"
      },
      "source": [
        "p=Point(5,7)\n",
        "q=Point(3,5)"
      ],
      "execution_count": 31,
      "outputs": []
    },
    {
      "cell_type": "code",
      "metadata": {
        "colab": {
          "base_uri": "https://localhost:8080/"
        },
        "id": "1X2sU0vtCuI5",
        "outputId": "5e08bfe2-47c1-4b14-bc9f-0d368d0a4767"
      },
      "source": [
        "p.odistance(), q.odistance()"
      ],
      "execution_count": 32,
      "outputs": [
        {
          "output_type": "execute_result",
          "data": {
            "text/plain": [
              "(3.7416573867739413, 2.449489742783178)"
            ]
          },
          "metadata": {},
          "execution_count": 32
        }
      ]
    },
    {
      "cell_type": "code",
      "metadata": {
        "id": "hMPdb4_DC9_y",
        "colab": {
          "base_uri": "https://localhost:8080/"
        },
        "outputId": "13e81ec9-87f9-42ca-e3fc-d6b902a85884"
      },
      "source": [
        "p.r, p.theta"
      ],
      "execution_count": 33,
      "outputs": [
        {
          "output_type": "execute_result",
          "data": {
            "text/plain": [
              "(3.7416573867739413, 0.9505468408120751)"
            ]
          },
          "metadata": {},
          "execution_count": 33
        }
      ]
    },
    {
      "cell_type": "markdown",
      "metadata": {
        "id": "f7KBnvKwMIpV"
      },
      "source": [
        "# Timing our code"
      ]
    },
    {
      "cell_type": "markdown",
      "metadata": {
        "id": "ILHCLpCcNNLq"
      },
      "source": [
        "Python executes 10^7 operations per second"
      ]
    },
    {
      "cell_type": "code",
      "metadata": {
        "id": "6v1u7ElrJ155"
      },
      "source": [
        "import time \n",
        "\n",
        "class TimerError(Exception):\n",
        "  \"\"\"A custom exception used to report errors in use of Timer class\"\"\"\n",
        "\n",
        "class Timer:\n",
        "  def __init__(self):\n",
        "    self._start_time= None\n",
        "    self._elapsed_time= None\n",
        "  \n",
        "  def start(self):\n",
        "    \"\"\"Start a new timer\"\"\"\n",
        "    if self._start_time is not None:\n",
        "      raise TimerError(\"Timer is running. Use .stop()\")\n",
        "    self._start_time= time.perf_counter()\n",
        "  \n",
        "  def stop(self):\n",
        "    \"\"\"Save the elapsed time and re-initialize timer\"\"\"\n",
        "    if self._start_time is None:\n",
        "      raise TimerError(\"Timer is not running. Use start()\")\n",
        "    self._elapsed_time= time.perf_counter() - self._start_time\n",
        "    self._start_time= None\n",
        "\n",
        "  def elapsed(self):\n",
        "    \"\"\"Report elapsed time\"\"\"\n",
        "    if self._elapsed_time is None:\n",
        "      raise TimerError(\"Timer has not been run yet. Use start()\")\n",
        "    return self._elapsed_time\n",
        "\n",
        "  def __str__(self):\n",
        "    \"\"\"print() prints elapsed time\"\"\"\n",
        "    return str(self._elapsed_time)\n"
      ],
      "execution_count": 34,
      "outputs": []
    },
    {
      "cell_type": "code",
      "metadata": {
        "colab": {
          "base_uri": "https://localhost:8080/"
        },
        "id": "pblMYhuIMQSy",
        "outputId": "e6b0c527-c517-4ae1-a343-c12a82c9cbff"
      },
      "source": [
        "t= Timer()\n",
        "for i in range(9):\n",
        "  t.start()\n",
        "  n=0\n",
        "  for j in range(10**i):\n",
        "    n+=j\n",
        "  t.stop()\n",
        "  print(i,t)"
      ],
      "execution_count": 35,
      "outputs": [
        {
          "output_type": "stream",
          "name": "stdout",
          "text": [
            "0 4.215000004137437e-06\n",
            "1 6.677000001786837e-06\n",
            "2 2.452699999366814e-05\n",
            "3 0.0002091589999935195\n",
            "4 0.0021510529999915207\n",
            "5 0.014690414000000374\n",
            "6 0.13158818200000155\n",
            "7 1.3355644499999926\n",
            "8 12.770665457999996\n"
          ]
        }
      ]
    },
    {
      "cell_type": "code",
      "metadata": {
        "id": "JSGeLJmkPOLA"
      },
      "source": [
        ""
      ],
      "execution_count": 35,
      "outputs": []
    }
  ]
}